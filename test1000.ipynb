{
 "cells": [
  {
   "cell_type": "markdown",
   "metadata": {},
   "source": [
    "# Spam detection AML 2017"
   ]
  },
  {
   "cell_type": "code",
   "execution_count": 7,
   "metadata": {
    "collapsed": true
   },
   "outputs": [],
   "source": [
    "# to not affect python config, but only current session: \n",
    "%config IPCompleter.greedy=True"
   ]
  },
  {
   "cell_type": "code",
   "execution_count": 8,
   "metadata": {
    "scrolled": true
   },
   "outputs": [],
   "source": [
    "# Import package \n",
    "\n",
    "import numpy as np  \n",
    "import pandas as pd \n",
    "import matplotlib.pyplot as plt\n",
    "import pylab as pl\n",
    "\n",
    "# data processing\n",
    "from nltk.tokenize import RegexpTokenizer \n",
    "from nltk.corpus import stopwords\n",
    "from nltk.stem import PorterStemmer\n",
    "from nltk.stem.snowball import SnowballStemmer\n",
    "from nltk.stem import WordNetLemmatizer\n",
    "import re\n",
    "\n",
    "# models: \n",
    "from sklearn.neighbors import KNeighborsClassifier\n",
    "from sklearn import tree\n",
    "from sklearn.ensemble import RandomForestClassifier\n",
    "from sklearn.svm import SVC\n",
    "from sklearn.ensemble import IsolationForest\n",
    "from sklearn.naive_bayes import BernoulliNB\n",
    "from sklearn.gaussian_process import GaussianProcessClassifier\n",
    "from sklearn import svm\n",
    "from sklearn import grid_search\n",
    "\n",
    "#Plotly for all the plots\n",
    "import plotly\n",
    "import plotly.plotly as py\n",
    "import plotly.graph_objs as go\n",
    "\n",
    "# Improve the models:\n",
    "from sklearn.cross_validation import cross_val_score\n",
    "from sklearn.metrics import average_precision_score, accuracy_score\n",
    "from sklearn.model_selection import GridSearchCV\n",
    "from sklearn.model_selection import train_test_split \n",
    "from sklearn.feature_extraction.text import TfidfVectorizer\n",
    "from sklearn.model_selection import cross_val_score\n"
   ]
  },
  {
   "cell_type": "markdown",
   "metadata": {},
   "source": [
    "# Processing Data"
   ]
  },
  {
   "cell_type": "code",
   "execution_count": 14,
   "metadata": {
    "collapsed": true
   },
   "outputs": [],
   "source": [
    "# extract numbers\n",
    "token = RegexpTokenizer(r'\\b[^\\d\\W]+\\b') \n",
    "\n",
    "# remove stop words\n",
    "stopwords = set(stopwords.words('english')) \n",
    "\n",
    "# remove subject\n",
    "stopwords.update(set(['_', 'subject']))\n",
    "\n",
    "lemmatizer = WordNetLemmatizer()\n",
    "\n",
    "# lemmatize \n",
    "def lemmatize(data):\n",
    "    for i, line in enumerate(data['text']): \n",
    "        newline = [] \n",
    "        words = line.split() \n",
    "        for word in words: \n",
    "            word = lemmatizer.lemmatize(word) \n",
    "            newline.append(word) \n",
    "        new = ' '.join(newline)  \n",
    "        data.loc[i, 'text'] = new \n"
   ]
  },
  {
   "cell_type": "code",
   "execution_count": 15,
   "metadata": {},
   "outputs": [],
   "source": [
    "# Get data\n",
    "train = pd.read_csv('./Data/emails.train.csv')\n",
    "test  = pd.read_csv('./Data/emails.test.csv')\n",
    "\n",
    "# lemmatize text\n",
    "lemmatize(train)\n",
    "lemmatize(test)\n",
    "\n",
    "text = train['text']\n",
    "Y_train = train['spam']\n",
    "Y_test = test['spam']\n",
    "\n",
    "# vectorize \n",
    "vectorizer = TfidfVectorizer(stop_words=stopwords, tokenizer=token.tokenize, max_features = 1000)\n",
    "vectorizer.fit(text)\n",
    "\n",
    "X_train = vectorizer.transform(train['text']).todense()\n",
    "X_test = vectorizer.transform(test['text']).todense()\n",
    "\n",
    "# Empty lists for plots \n",
    "Models = []\n",
    "Scores = []\n",
    "Cross_scores = []"
   ]
  },
  {
   "cell_type": "code",
   "execution_count": 43,
   "metadata": {},
   "outputs": [
    {
     "name": "stdout",
     "output_type": "stream",
     "text": [
      "953\n",
      "415\n",
      "3068\n",
      "1292\n",
      "1368\n",
      "4360\n"
     ]
    }
   ],
   "source": [
    "# get descriptives \n",
    "\n",
    "plotly.tools.set_credentials_file(username='fvs10533176', api_key='r56zsrqviN0WhBa3R05F')\n",
    "total_email = train.shape[0] + test.shape[0]\n",
    "total_spam = train[train['spam'] == 1].shape[0] + test[test['spam'] == 1].shape[0]\n",
    "total_ham =  train[train['spam'] == 0].shape[0] + test[test['spam'] == 0].shape[0]\n",
    "\n",
    "train_spam = train[train['spam'] == 1].shape[0]\n",
    "train_ham = train[train['spam'] == 0].shape[0]\n",
    "\n",
    "test_spam = test[test['spam'] == 1].shape[0]\n",
    "test_ham = test[test['spam'] == 0].shape[0]\n",
    "\n",
    "print (train_spam)\n",
    "print (test_spam)\n",
    "print (train_ham)\n",
    "print (test_ham)\n",
    "\n",
    "print (total_spam)\n",
    "print (total_ham)\n",
    "# headerColor = 'grey'\n",
    "# rowEvenColor = 'lightgrey'\n",
    "# rowOddColor = 'white'\n",
    "\n",
    "# trace0 = go.Table(\n",
    "#   type = 'table',\n",
    "#   header = dict(\n",
    "#     values = [['<b>Descriptive Statistics</b>'],\n",
    "#                   ['<b>Spam</b>'],\n",
    "#                   ['<b>Ham</b>'],\n",
    "#                   ['<b>Total</b>']],\n",
    "#     line = dict(color = '#506784'),\n",
    "#     fill = dict(color = headerColor),\n",
    "#     align = ['left','center'],\n",
    "#     font = dict(color = 'white', size = 12)\n",
    "#   ),\n",
    "#   cells = dict(\n",
    "#     values = [\n",
    "#       [['Train emails', 'Test emails','<b>TOTAL</b>']],\n",
    "#       [[train_spam, test_spam, total_spam]],\n",
    "#       [[train_ham, test_ham, total_ham]],\n",
    "#       [[total_spam, total_ham, total_email]],\n",
    "#     line = dict(color = '#506784'),\n",
    "#     fill = dict(color = [[rowOddColor,rowEvenColor,rowOddColor,\n",
    "#                                rowEvenColor,rowOddColor]]),\n",
    "#     align = ['left', 'center'],\n",
    "#     font = dict(color = '#506784', size = 11)\n",
    "#     ))\n",
    "\n",
    "# data = [trace0]\n",
    "\n",
    "# py.iplot(data, filename = \"descriptives\")\n"
   ]
  },
  {
   "cell_type": "markdown",
   "metadata": {},
   "source": [
    "# KNN model classifier"
   ]
  },
  {
   "cell_type": "code",
   "execution_count": 24,
   "metadata": {},
   "outputs": [
    {
     "name": "stdout",
     "output_type": "stream",
     "text": [
      "The optimal number of neighbors is 35\n"
     ]
    }
   ],
   "source": [
    "random_k = list(range(1,50))\n",
    "\n",
    "# only odd numbers\n",
    "neighbor = filter(lambda x: x % 2 != 0, random_k)\n",
    "\n",
    "cross_scores = []\n",
    "\n",
    "# 10 fold crossvalidation using training set, to find optimal k-value for classifier\n",
    "for k in neighbor:\n",
    "    knn = KNeighborsClassifier(n_neighbors=k)\n",
    "    scores = cross_val_score(knn, X_train, Y_train, cv=10, scoring='accuracy')\n",
    "    cross_scores.append(scores.mean())\n",
    "\n",
    "# misclassification error\n",
    "MSE = [1 - x for x in cross_scores]\n",
    "optimal_k = neighbor[MSE.index(min(MSE))]\n",
    "print \"The optimal number of neighbors is %d\" % optimal_k"
   ]
  },
  {
   "cell_type": "code",
   "execution_count": null,
   "metadata": {
    "collapsed": true
   },
   "outputs": [],
   "source": [
    "# plot with MSE vs k\n",
    "plt.plot(neighbor, MSE)\n",
    "plt.xlabel('Number of Neighbors K')\n",
    "plt.ylabel('Misclassification Error')\n",
    "plt.show()"
   ]
  },
  {
   "cell_type": "code",
   "execution_count": 73,
   "metadata": {
    "scrolled": true
   },
   "outputs": [
    {
     "ename": "NameError",
     "evalue": "name 'optimal_k' is not defined",
     "output_type": "error",
     "traceback": [
      "\u001b[0;31m---------------------------------------------------------------------------\u001b[0m",
      "\u001b[0;31mNameError\u001b[0m                                 Traceback (most recent call last)",
      "\u001b[0;32m<ipython-input-73-6e9629792814>\u001b[0m in \u001b[0;36m<module>\u001b[0;34m()\u001b[0m\n\u001b[1;32m      1\u001b[0m \u001b[0;31m# with use of optimal_k\u001b[0m\u001b[0;34m\u001b[0m\u001b[0;34m\u001b[0m\u001b[0m\n\u001b[0;32m----> 2\u001b[0;31m \u001b[0mknn\u001b[0m \u001b[0;34m=\u001b[0m \u001b[0mKNeighborsClassifier\u001b[0m\u001b[0;34m(\u001b[0m\u001b[0mn_neighbors\u001b[0m\u001b[0;34m=\u001b[0m \u001b[0moptimal_k\u001b[0m\u001b[0;34m)\u001b[0m\u001b[0;34m\u001b[0m\u001b[0m\n\u001b[0m\u001b[1;32m      3\u001b[0m \u001b[0;34m\u001b[0m\u001b[0m\n\u001b[1;32m      4\u001b[0m \u001b[0;31m# model fitting\u001b[0m\u001b[0;34m\u001b[0m\u001b[0;34m\u001b[0m\u001b[0m\n\u001b[1;32m      5\u001b[0m \u001b[0mknn\u001b[0m\u001b[0;34m.\u001b[0m\u001b[0mfit\u001b[0m\u001b[0;34m(\u001b[0m\u001b[0mX_train\u001b[0m\u001b[0;34m,\u001b[0m \u001b[0mY_train\u001b[0m\u001b[0;34m)\u001b[0m\u001b[0;34m\u001b[0m\u001b[0m\n",
      "\u001b[0;31mNameError\u001b[0m: name 'optimal_k' is not defined"
     ]
    }
   ],
   "source": [
    "# with use of optimal_k\n",
    "knn = KNeighborsClassifier(n_neighbors= optimal_k)\n",
    "\n",
    "# model fitting\n",
    "knn.fit(X_train, Y_train)\n",
    "\n",
    "# predict\n",
    "Y_pred = knn.predict(X_test)\n",
    "\n",
    "# accuracy evaluation\n",
    "print accuracy_score(Y_test, Y_pred)\n",
    "Models.append('KNN')\n",
    "Scores.append(accuracy_score(Y_test, Y_pred))\n",
    "Cross_scores.append(cross_val_score(knn, X_train, Y_train, cv = 10, scoring = 'accuracy').mean())\n",
    "\n",
    "pd.DataFrame({\n",
    "    'id': test.id,\n",
    "    'spam': Y_pred\n",
    "}).to_csv('knn.csv', index=False)"
   ]
  },
  {
   "cell_type": "code",
   "execution_count": null,
   "metadata": {
    "collapsed": true
   },
   "outputs": [],
   "source": [
    "h = .02  # step size in the mesh\n",
    " \n",
    "# Calculate min, max and limits\n",
    "x_min, x_max = X_train[:, 0].min() - 1, X_train[:, 0].max() + 1\n",
    "y_min, y_max = X_train[:, 1].min() - 1, X_train[:, 1].max() + 1\n",
    "xx, yy = np.meshgrid(np.arange(x_min, x_max, h), np.arange(y_min, y_max, h))\n",
    " \n",
    "# Put the result into a color plot\n",
    "plt.figure()\n",
    "plt.scatter(X_train[:, 0], X_train[:, 1])\n",
    "plt.xlim(xx.min(), xx.max())\n",
    "plt.ylim(yy.min(), yy.max())\n",
    "plt.title(\"Data points\")\n",
    "plt.show()"
   ]
  },
  {
   "cell_type": "markdown",
   "metadata": {},
   "source": [
    "# Random Forest Model Classifier"
   ]
  },
  {
   "cell_type": "code",
   "execution_count": 21,
   "metadata": {},
   "outputs": [
    {
     "name": "stdout",
     "output_type": "stream",
     "text": [
      "{'n_estimators': 40, 'max_depth': 25, 'min_samples_leaf': 1}\n"
     ]
    }
   ],
   "source": [
    "rf_class = RandomForestClassifier() \n",
    " \n",
    "# Use a grid search to find optimal parameters\n",
    "param_grid = { \n",
    "           \"n_estimators\" : [8, 16, 32, 40, 48, 56],\n",
    "           \"max_depth\" : [1, 5, 10, 15, 20, 25],\n",
    "           \"min_samples_leaf\" : [1, 2, 4, 6, 8, 10]}\n",
    " \n",
    "CV_rf_class = GridSearchCV(estimator=rf_class, param_grid=param_grid, n_jobs=-1)\n",
    "CV_rf_class.fit(X_train, Y_train)\n",
    "print CV_rf_class.best_params_\n"
   ]
  },
  {
   "cell_type": "code",
   "execution_count": 11,
   "metadata": {},
   "outputs": [
    {
     "name": "stdout",
     "output_type": "stream",
     "text": [
      "0.973887092763\n"
     ]
    }
   ],
   "source": [
    "print CV_rf_class.best_score_\n",
    "# print accuracy_score(Y_test, Y_pred)\n"
   ]
  },
  {
   "cell_type": "code",
   "execution_count": 22,
   "metadata": {
    "collapsed": true
   },
   "outputs": [],
   "source": [
    "est = CV_rf_class.best_estimator_\n",
    "Y_pred = est.predict(X_test)\n",
    "Models.append('Random Forest')\n",
    "Scores.append(accuracy_score(Y_test, Y_pred))\n",
    "Cross_scores.append(cross_val_score(rf_class, X_train, Y_train, cv = 10, scoring = 'accuracy').mean())\n",
    "\n",
    "pd.DataFrame({\n",
    "    'id': test.id,\n",
    "    'spam': Y_pred\n",
    "}).to_csv('rforest.csv', index=False)"
   ]
  },
  {
   "cell_type": "code",
   "execution_count": 23,
   "metadata": {},
   "outputs": [
    {
     "name": "stdout",
     "output_type": "stream",
     "text": [
      "[0.93204452255418868, 0.93204452255418868, 0.93204452255418868, 0.93204452255418868, 0.93204452255418868, 0.96485061511423553]\n"
     ]
    }
   ],
   "source": [
    "print Scores"
   ]
  },
  {
   "cell_type": "markdown",
   "metadata": {
    "collapsed": true
   },
   "source": [
    "# Gaussian Process Model Classifier"
   ]
  },
  {
   "cell_type": "code",
   "execution_count": 19,
   "metadata": {
    "scrolled": true
   },
   "outputs": [
    {
     "name": "stdout",
     "output_type": "stream",
     "text": [
      "0.960749853544\n"
     ]
    }
   ],
   "source": [
    "gaus_class = GaussianProcessClassifier()\n",
    "\n",
    "gaus_class.fit(X_train, Y_train)\n",
    "\n",
    "Y_pred = gaus_class.predict(X_test)\n",
    "\n",
    "print accuracy_score(Y_test, Y_pred)\n",
    "\n",
    "Models.append('Gaussian Process')\n",
    "Scores.append(accuracy_score(Y_test, Y_pred))\n",
    "Cross_scores.append(cross_val_score(gaus_class, X_train, Y_train, cv = 10, scoring = 'accuracy').mean())\n",
    "\n",
    "pd.DataFrame({\n",
    "    'id': test.id,\n",
    "    'spam': Y_pred\n",
    "}).to_csv('gaussian.csv', index=False)\n"
   ]
  },
  {
   "cell_type": "markdown",
   "metadata": {
    "collapsed": true
   },
   "source": [
    "# Naive Bayes classifier for multivariate Bernoulli models"
   ]
  },
  {
   "cell_type": "code",
   "execution_count": 19,
   "metadata": {},
   "outputs": [
    {
     "name": "stdout",
     "output_type": "stream",
     "text": [
      "0.932044522554\n"
     ]
    }
   ],
   "source": [
    "NB = BernoulliNB()\n",
    "\n",
    "NB.fit(X_train, Y_train)\n",
    "\n",
    "Y_pred = NB.predict(X_test)\n",
    "\n",
    "print (accuracy_score(Y_test, Y_pred))\n",
    "\n",
    "Models.append('Bernoulli Naive Bayes')\n",
    "Scores.append(accuracy_score(Y_test, Y_pred))\n",
    "Cross_scores.append(cross_val_score(NB, X_train, Y_train, cv = 10, scoring = 'accuracy').mean())\n",
    "\n",
    "pd.DataFrame({\n",
    "    'id': test.id,\n",
    "    'spam': Y_pred\n",
    "}).to_csv('BernoulliNaiveBayes.csv', index=False)"
   ]
  },
  {
   "cell_type": "markdown",
   "metadata": {
    "collapsed": true
   },
   "source": [
    "# Isolation Forest Model "
   ]
  },
  {
   "cell_type": "code",
   "execution_count": 20,
   "metadata": {},
   "outputs": [
    {
     "name": "stdout",
     "output_type": "stream",
     "text": [
      "0.932044522554\n"
     ]
    }
   ],
   "source": [
    "isolationForest = IsolationForest()\n",
    "\n",
    "isolationForest.fit(X_train, Y_train)\n",
    "\n",
    "y_pred = isolationForest.predict(X_test)\n",
    "\n",
    "print (accuracy_score(Y_test, Y_pred))\n",
    "\n",
    "Models.append('Isolation Forest')\n",
    "Scores.append(accuracy_score(Y_test, Y_pred))\n",
    "Cross_scores.append(accuracy_score(Y_test, Y_pred))\n",
    "\n",
    "pd.DataFrame({\n",
    "    'id': test.id,\n",
    "    'spam': Y_pred\n",
    "}).to_csv('isolationForest.csv', index=False)"
   ]
  },
  {
   "cell_type": "markdown",
   "metadata": {},
   "source": [
    "# C Support Vector Classification"
   ]
  },
  {
   "cell_type": "code",
   "execution_count": 17,
   "metadata": {},
   "outputs": [
    {
     "name": "stdout",
     "output_type": "stream",
     "text": [
      "0.986822682563\n"
     ]
    }
   ],
   "source": [
    "# def svc_param_selection(X, y, nfolds):\n",
    "#     Cs = [0.001, 0.01, 0.1, 1, 10]\n",
    "#     gammas = [0.001, 0.01, 0.1, 1]\n",
    "#     param_grid = {'C': Cs, 'gamma' : gammas}\n",
    "#     grid_search = GridSearchCV(svm.SVC(kernel='rbf'), param_grid, cv=nfolds)\n",
    "#     grid_search.fit(X, y)\n",
    "#     grid_search.best_params_\n",
    "#     return grid_search.best_params_\n",
    "\n",
    "# print (svc_param_selection(X_train, Y_train, 10)) kwam ene gamma van 1 uit en een c van 10\n",
    "model = svm.SVC(kernel='rbf', C=10, gamma=1) \n",
    "\n",
    "model.fit(X_train, Y_train)\n",
    "model.score(X_train, Y_train)\n",
    "Y_pred = model.predict(X_test)\n",
    "\n",
    "print (cross_val_score(model, X_train, Y_train, cv = 10, scoring = 'accuracy').mean())\n",
    "# print (accuracy_score(Y_test, Y_pred))\n",
    "\n",
    "Models.append('C-Support Vector')\n",
    "Scores.append(accuracy_score(Y_test, Y_pred))\n",
    "Cross_scores.append(cross_val_score(model, X_train, Y_train, cv = 10, scoring = 'accuracy').mean())\n",
    "\n",
    "pd.DataFrame({\n",
    "    'id': test.id,\n",
    "    'spam': Y_pred\n",
    "}).to_csv('C-Support.csv', index=False)\n"
   ]
  },
  {
   "cell_type": "markdown",
   "metadata": {},
   "source": [
    "# Plot scores"
   ]
  },
  {
   "cell_type": "code",
   "execution_count": 18,
   "metadata": {
    "scrolled": true
   },
   "outputs": [
    {
     "data": {
      "text/html": [
       "<iframe id=\"igraph\" scrolling=\"no\" style=\"border:none;\" seamless=\"seamless\" src=\"https://plot.ly/~fvs10533176/8.embed\" height=\"525px\" width=\"100%\"></iframe>"
      ],
      "text/plain": [
       "<plotly.tools.PlotlyDisplay object>"
      ]
     },
     "execution_count": 18,
     "metadata": {},
     "output_type": "execute_result"
    }
   ],
   "source": [
    "plotly.tools.set_credentials_file(username='fvs10533176', api_key='r56zsrqviN0WhBa3R05F')\n",
    "\n",
    "trace1 = go.Bar(\n",
    "    x=Models,\n",
    "    y=Scores,\n",
    "    name='Accuracy'\n",
    ")\n",
    "\n",
    "trace2 = go.Bar(\n",
    "    x=Models,\n",
    "    y= Cross_scores,\n",
    "    name='Accuracy with cross validation'\n",
    ")\n",
    "\n",
    "data = [trace1, trace2]\n",
    "layout = go.Layout(\n",
    "    barmode='group',\n",
    "    title= 'Accuracy scores for Spam detection',\n",
    "    yaxis=dict(\n",
    "        type='log',\n",
    "        autorange=True\n",
    "    )\n",
    ")\n",
    "\n",
    "fig = go.Figure(data=data, layout=layout)\n",
    "py.iplot(fig, filename='Scores')\n",
    "\n"
   ]
  }
 ],
 "metadata": {
  "kernelspec": {
   "display_name": "Python 2",
   "language": "python",
   "name": "python2"
  },
  "language_info": {
   "codemirror_mode": {
    "name": "ipython",
    "version": 2
   },
   "file_extension": ".py",
   "mimetype": "text/x-python",
   "name": "python",
   "nbconvert_exporter": "python",
   "pygments_lexer": "ipython2",
   "version": "2.7.13"
  }
 },
 "nbformat": 4,
 "nbformat_minor": 2
}
